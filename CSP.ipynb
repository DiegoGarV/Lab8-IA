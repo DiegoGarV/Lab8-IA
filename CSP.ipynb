{
 "cells": [
  {
   "cell_type": "markdown",
   "metadata": {},
   "source": [
    "# Laboratorio 8"
   ]
  },
  {
   "cell_type": "markdown",
   "metadata": {},
   "source": [
    "## Task 1 - Preguntas"
   ]
  },
  {
   "cell_type": "markdown",
   "metadata": {},
   "source": [
    "1. **Investigar el algoritmo AC-3 y su relación con el algoritmo de backtracking search**<br>\n",
    "AC-3 o Arc Consistency 3 es un método que se utiliza en problemas de satisfacción de restricciones para reducir el dominio de las variables antes de realizar una búsqueda. Su relación con el Backtracking Search es debido a que el AC-3 mejora la eficiencia de la búsqueda eliminando valores inconsistentes antes de que el backtracking los explore. \n",
    "\n",
    "2. **Defina en sus propias palabras el término “Arc Consistency”**<br>\n",
    "Es una propiedad en los problemas de satisfacción de restricciones que dice que para cada par de variables con restricciones, cada valor posible en una variable tiene al menos un valor compatible en la otra. "
   ]
  },
  {
   "cell_type": "markdown",
   "metadata": {},
   "source": [
    "## Task 2 - Algoritmos CSP"
   ]
  },
  {
   "cell_type": "code",
   "execution_count": 9,
   "metadata": {},
   "outputs": [],
   "source": [
    "import time\n",
    "import random\n",
    "from collections import defaultdict\n",
    "import numpy as np\n",
    "\n",
    "# Variables\n",
    "exams = ['Matemática', 'Física', 'Química', 'Historia', 'Inglés', 'Biología', 'Computación']\n",
    "days = ['Lunes', 'Martes', 'Miércoles']\n",
    "\n",
    "# Dominio inicial\n",
    "domain = {exam: days[:] for exam in exams}\n",
    "\n",
    "# Cursos por estudiante\n",
    "students = {\n",
    "    'Ana': ['Matemática', 'Física', 'Inglés'],\n",
    "    'Luis': ['Física', 'Historia', 'Computación'],\n",
    "    'Sofía': ['Matemática', 'Química', 'Biología'],\n",
    "    'Carlos': ['Historia', 'Biología', 'Inglés']\n",
    "}\n",
    "\n",
    "# Relación: cursos que no deben ser el mismo día si los comparten estudiantes\n",
    "def conflict(c1, c2):\n",
    "    for cursos in students.values():\n",
    "        if c1 in cursos and c2 in cursos:\n",
    "            return True\n",
    "    return False\n",
    "\n",
    "# Generar pares de cursos conflictivos\n",
    "conflict_pairs = set()\n",
    "for i in range(len(exams)):\n",
    "    for j in range(i + 1, len(exams)):\n",
    "        if conflict(exams[i], exams[j]):\n",
    "            conflict_pairs.add((exams[i], exams[j]))\n"
   ]
  },
  {
   "cell_type": "markdown",
   "metadata": {},
   "source": [
    "### Backtracking Search"
   ]
  },
  {
   "cell_type": "code",
   "execution_count": 10,
   "metadata": {},
   "outputs": [
    {
     "name": "stdout",
     "output_type": "stream",
     "text": [
      "Backtracking Result: {'Matemática': 'Lunes', 'Física': 'Martes', 'Química': 'Miércoles', 'Historia': 'Lunes', 'Inglés': 'Miércoles', 'Biología': 'Martes', 'Computación': 'Miércoles'}\n",
      "Execution Time: 5.8999983593821526e-05 seconds\n"
     ]
    }
   ],
   "source": [
    "def is_valid(assignment, var, value):\n",
    "    for other_var, other_val in assignment.items():\n",
    "        if value == other_val and ((var, other_var) in conflict_pairs or (other_var, var) in conflict_pairs):\n",
    "            return False\n",
    "    return True\n",
    "\n",
    "\n",
    "def backtracking(assignment):\n",
    "    if len(assignment) == len(exams):\n",
    "        return assignment\n",
    "\n",
    "    unassigned = [v for v in exams if v not in assignment]\n",
    "    var = unassigned[0]\n",
    "    for value in days:\n",
    "        if is_valid(assignment, var, value):\n",
    "            assignment[var] = value\n",
    "            result = backtracking(assignment)\n",
    "            if result:\n",
    "                return result\n",
    "            del assignment[var]\n",
    "    return None\n",
    "\n",
    "# Ejecutar y medir tiempo\n",
    "start_time = time.perf_counter()\n",
    "backtracking_result = backtracking({})\n",
    "end_time = time.perf_counter()\n",
    "backtracking_time = end_time - start_time\n",
    "\n",
    "print(\"Backtracking Result:\", backtracking_result)\n",
    "print(\"Execution Time:\", end_time - start_time, \"seconds\")\n"
   ]
  },
  {
   "cell_type": "markdown",
   "metadata": {},
   "source": []
  },
  {
   "cell_type": "markdown",
   "metadata": {},
   "source": [
    "### Beam Search"
   ]
  },
  {
   "cell_type": "code",
   "execution_count": 11,
   "metadata": {},
   "outputs": [
    {
     "name": "stdout",
     "output_type": "stream",
     "text": [
      "Beam Search Result: {'Matemática': 'Lunes', 'Física': 'Martes', 'Química': 'Miércoles', 'Historia': 'Lunes', 'Inglés': 'Miércoles', 'Biología': 'Martes', 'Computación': 'Miércoles'}\n",
      "Execution Time: 0.00012169999536126852 seconds\n"
     ]
    }
   ],
   "source": [
    "def evaluate(state):\n",
    "    \"\"\"Evalúa cuántos conflictos tiene el estado actual\"\"\"\n",
    "    conflicts = 0\n",
    "    for (a, b) in conflict_pairs:\n",
    "        if a in state and b in state and state[a] == state[b]:\n",
    "            conflicts += 1\n",
    "    return conflicts\n",
    "\n",
    "def beam_search(k=3):\n",
    "    beam = [{}]  # Lista de posibles soluciones parciales\n",
    "    while True:\n",
    "        new_beam = []\n",
    "        for partial in beam:\n",
    "            unassigned = [v for v in exams if v not in partial]\n",
    "            if not unassigned:\n",
    "                new_beam.append(partial)\n",
    "                continue\n",
    "            var = unassigned[0]\n",
    "            for day in days:\n",
    "                new_assignment = partial.copy()\n",
    "                new_assignment[var] = day\n",
    "                new_beam.append(new_assignment)\n",
    "\n",
    "        # Evaluar todos y quedarse con los k mejores\n",
    "        new_beam = sorted(new_beam, key=lambda x: evaluate(x))[:k]\n",
    "        # Si todos están completos y sin conflictos, retornar\n",
    "        for candidate in new_beam:\n",
    "            if len(candidate) == len(exams) and evaluate(candidate) == 0:\n",
    "                return candidate\n",
    "        beam = new_beam\n",
    "\n",
    "start_time = time.perf_counter()\n",
    "beam_result = beam_search(k=3)\n",
    "end_time = time.perf_counter()\n",
    "\n",
    "print(\"Beam Search Result:\", beam_result)\n",
    "print(\"Execution Time:\", end_time - start_time, \"seconds\")"
   ]
  },
  {
   "cell_type": "markdown",
   "metadata": {},
   "source": [
    "### Local Search - Hill Climbing"
   ]
  },
  {
   "cell_type": "code",
   "execution_count": 12,
   "metadata": {},
   "outputs": [],
   "source": [
    "def random_assignment():\n",
    "    return {exam: random.choice(days) for exam in exams}\n",
    "\n",
    "def count_conflicts(state):\n",
    "    conflicts = 0\n",
    "    for (a, b) in conflict_pairs:\n",
    "        if state[a] == state[b]:\n",
    "            conflicts += 1\n",
    "    return conflicts\n",
    "\n",
    "def get_neighbors(state):\n",
    "    neighbors = []\n",
    "    for exam in exams:\n",
    "        for day in days:\n",
    "            if state[exam] != day:\n",
    "                neighbor = state.copy()\n",
    "                neighbor[exam] = day\n",
    "                neighbors.append(neighbor)\n",
    "    return neighbors\n",
    "\n",
    "def hill_climbing(max_iterations=1000):\n",
    "    current = random_assignment()\n",
    "    current_conflicts = count_conflicts(current)\n",
    "\n",
    "    for _ in range(max_iterations):\n",
    "        neighbors = get_neighbors(current)\n",
    "        best_neighbor = min(neighbors, key=count_conflicts)\n",
    "        best_conflicts = count_conflicts(best_neighbor)\n",
    "\n",
    "        if best_conflicts >= current_conflicts:\n",
    "            break  # No mejor vecino, llegamos a un óptimo local\n",
    "        current = best_neighbor\n",
    "        current_conflicts = best_conflicts\n",
    "\n",
    "        if current_conflicts == 0:\n",
    "            break\n",
    "\n",
    "    return current if current_conflicts == 0 else None"
   ]
  },
  {
   "cell_type": "code",
   "execution_count": 13,
   "metadata": {},
   "outputs": [
    {
     "name": "stdout",
     "output_type": "stream",
     "text": [
      "Local Search Result: {'Matemática': 'Lunes', 'Física': 'Martes', 'Química': 'Miércoles', 'Historia': 'Lunes', 'Inglés': 'Miércoles', 'Biología': 'Martes', 'Computación': 'Miércoles'}\n",
      "Execution Time: 0.00030129996594041586 seconds\n",
      "Attempts: 3\n"
     ]
    }
   ],
   "source": [
    "# Ejecutar y medir tiempo\n",
    "# Reintenta hasta que encuentre solución\n",
    "solution = None\n",
    "attempts = 0\n",
    "max_attempts = 50\n",
    "\n",
    "start_time = time.perf_counter()\n",
    "while not solution and attempts < max_attempts:\n",
    "    solution = hill_climbing()\n",
    "    attempts += 1\n",
    "end_time = time.perf_counter()\n",
    "\n",
    "print(f\"Local Search Result: {solution}\")\n",
    "print(f\"Execution Time: {end_time - start_time} seconds\")\n",
    "print(f\"Attempts: {attempts}\")"
   ]
  },
  {
   "cell_type": "markdown",
   "metadata": {},
   "source": [
    "## Conclusiones"
   ]
  },
  {
   "cell_type": "markdown",
   "metadata": {},
   "source": [
    "En general todos los algoritmos funcionaron rápido y dando una solución real. Esto debido a que el problema no era muy grande, al contar solo con 7 días y cuatro estudiantes. En este caso vemos que el Backtracking fue el más veloz y esto puede deberse a que no depende de parametros heurísticos. Los otros dos fueron más lento pero no lo suficiente para ser significativos al momento de escoger una herramienta para resolver un problema con estas características (en especial la cantidad de datos)."
   ]
  }
 ],
 "metadata": {
  "kernelspec": {
   "display_name": "venv",
   "language": "python",
   "name": "python3"
  },
  "language_info": {
   "codemirror_mode": {
    "name": "ipython",
    "version": 3
   },
   "file_extension": ".py",
   "mimetype": "text/x-python",
   "name": "python",
   "nbconvert_exporter": "python",
   "pygments_lexer": "ipython3",
   "version": "3.11.9"
  }
 },
 "nbformat": 4,
 "nbformat_minor": 2
}
