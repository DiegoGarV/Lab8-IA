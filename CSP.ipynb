{
 "cells": [
  {
   "cell_type": "code",
   "execution_count": 32,
   "metadata": {},
   "outputs": [],
   "source": [
    "import time\n",
    "import random\n",
    "from collections import defaultdict\n",
    "import numpy as np\n",
    "\n",
    "# Variables\n",
    "exams = ['Matemática', 'Física', 'Química', 'Historia', 'Inglés', 'Biología', 'Computación']\n",
    "days = ['Lunes', 'Martes', 'Miércoles']\n",
    "\n",
    "# Dominio inicial\n",
    "domain = {exam: days[:] for exam in exams}\n",
    "\n",
    "# Cursos por estudiante\n",
    "students = {\n",
    "    'Ana': ['Matemática', 'Física', 'Inglés'],\n",
    "    'Luis': ['Física', 'Historia', 'Computación'],\n",
    "    'Sofía': ['Matemática', 'Química', 'Biología'],\n",
    "    'Carlos': ['Historia', 'Biología', 'Inglés']\n",
    "}\n",
    "\n",
    "# Relación: cursos que no deben ser el mismo día si los comparten estudiantes\n",
    "def conflict(c1, c2):\n",
    "    for cursos in students.values():\n",
    "        if c1 in cursos and c2 in cursos:\n",
    "            return True\n",
    "    return False\n",
    "\n",
    "# Generar pares de cursos conflictivos\n",
    "conflict_pairs = set()\n",
    "for i in range(len(exams)):\n",
    "    for j in range(i + 1, len(exams)):\n",
    "        if conflict(exams[i], exams[j]):\n",
    "            conflict_pairs.add((exams[i], exams[j]))\n"
   ]
  },
  {
   "cell_type": "markdown",
   "metadata": {},
   "source": [
    "## Backtracking Search"
   ]
  },
  {
   "cell_type": "code",
   "execution_count": 33,
   "metadata": {},
   "outputs": [
    {
     "name": "stdout",
     "output_type": "stream",
     "text": [
      "Backtracking Result: {'Matemática': 'Lunes', 'Física': 'Martes', 'Química': 'Miércoles', 'Historia': 'Lunes', 'Inglés': 'Miércoles', 'Biología': 'Martes', 'Computación': 'Miércoles'}\n",
      "Execution Time: 0.0005128383636474609 seconds\n"
     ]
    }
   ],
   "source": [
    "def is_valid(assignment, var, value):\n",
    "    for other_var, other_val in assignment.items():\n",
    "        if value == other_val and ((var, other_var) in conflict_pairs or (other_var, var) in conflict_pairs):\n",
    "            return False\n",
    "    return True\n",
    "\n",
    "\n",
    "def backtracking(assignment):\n",
    "    if len(assignment) == len(exams):\n",
    "        return assignment\n",
    "\n",
    "    unassigned = [v for v in exams if v not in assignment]\n",
    "    var = unassigned[0]\n",
    "    for value in days:\n",
    "        if is_valid(assignment, var, value):\n",
    "            assignment[var] = value\n",
    "            result = backtracking(assignment)\n",
    "            if result:\n",
    "                return result\n",
    "            del assignment[var]\n",
    "    return None\n",
    "\n",
    "# Ejecutar y medir tiempo\n",
    "start_time = time.time()\n",
    "backtracking_result = backtracking({})\n",
    "end_time = time.time()\n",
    "backtracking_time = end_time - start_time\n",
    "\n",
    "print(\"Backtracking Result:\", backtracking_result)\n",
    "print(\"Execution Time:\", end_time - start_time, \"seconds\")\n"
   ]
  },
  {
   "cell_type": "markdown",
   "metadata": {},
   "source": []
  }
 ],
 "metadata": {
  "kernelspec": {
   "display_name": "venv",
   "language": "python",
   "name": "python3"
  },
  "language_info": {
   "codemirror_mode": {
    "name": "ipython",
    "version": 3
   },
   "file_extension": ".py",
   "mimetype": "text/x-python",
   "name": "python",
   "nbconvert_exporter": "python",
   "pygments_lexer": "ipython3",
   "version": "3.11.9"
  }
 },
 "nbformat": 4,
 "nbformat_minor": 2
}
