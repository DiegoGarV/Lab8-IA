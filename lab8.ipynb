{
 "cells": [
  {
   "cell_type": "markdown",
   "metadata": {},
   "source": [
    "# Laboratorio 8"
   ]
  },
  {
   "cell_type": "markdown",
   "metadata": {},
   "source": [
    "## Task 1 - Preguntas\n",
    "\n",
    "1. **Investigar el algoritmo AC-3 y su relación con el algoritmo de backtracking search**<br>\n",
    "AC-3 o Arc Consistency 3 es un método que se utiliza en problemas de satisfacción de restricciones para reducir el dominio de las variables antes de realizar una búsqueda. Su relación con el Backtracking Search es debido a que el AC-3 mejora la eficiencia de la búsqueda eliminando valores inconsistentes antes de que el backtracking los explore. \n",
    "\n",
    "2. **Defina en sus propias palabras el término “Arc Consistency”**<br>"
   ]
  }
 ],
 "metadata": {
  "language_info": {
   "name": "python"
  }
 },
 "nbformat": 4,
 "nbformat_minor": 2
}
